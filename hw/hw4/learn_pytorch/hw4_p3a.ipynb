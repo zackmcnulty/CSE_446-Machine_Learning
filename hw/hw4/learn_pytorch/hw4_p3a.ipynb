{
 "cells": [
  {
   "cell_type": "code",
   "execution_count": 11,
   "metadata": {},
   "outputs": [],
   "source": [
    "%matplotlib inline"
   ]
  },
  {
   "cell_type": "code",
   "execution_count": 12,
   "metadata": {},
   "outputs": [],
   "source": [
    "import torch\n",
    "import torchvision\n",
    "import torchvision.transforms as transforms"
   ]
  },
  {
   "cell_type": "code",
   "execution_count": 13,
   "metadata": {},
   "outputs": [
    {
     "name": "stdout",
     "output_type": "stream",
     "text": [
      "Files already downloaded and verified\n",
      "Files already downloaded and verified\n"
     ]
    }
   ],
   "source": [
    "# LOADS CIFAR10 images which are 32 x 32 x 3 RGB images\n",
    "# iter(trainloader/testloader) are iterables that come in pairs (image, label)\n",
    "\n",
    "transform = transforms.Compose(\n",
    "    [transforms.ToTensor(),\n",
    "     transforms.Normalize((0.5, 0.5, 0.5), (0.5, 0.5, 0.5))])\n",
    "\n",
    "trainset = torchvision.datasets.CIFAR10(root='./data', train=True,\n",
    "                                        download=True, transform=transform)\n",
    "trainloader = torch.utils.data.DataLoader(trainset, batch_size=4,\n",
    "                                          shuffle=True, num_workers=2)\n",
    "\n",
    "\n",
    "testset = torchvision.datasets.CIFAR10(root='./data', train=False,\n",
    "                                       download=True, transform=transform)\n",
    "testloader = torch.utils.data.DataLoader(testset, batch_size=4,\n",
    "                                         shuffle=False, num_workers=2)\n",
    "\n",
    "classes = ('plane', 'car', 'bird', 'cat',\n",
    "           'deer', 'dog', 'frog', 'horse', 'ship', 'truck')"
   ]
  },
  {
   "cell_type": "code",
   "execution_count": 14,
   "metadata": {},
   "outputs": [],
   "source": [
    "import torch.nn as nn\n",
    "import torch.nn.functional as F\n",
    "\n",
    "\n",
    "class Net(nn.Module):\n",
    "    def __init__(self):\n",
    "        super(Net, self).__init__()\n",
    "        \n",
    "        # in features --> flattened 32 x 32 x 3 image, out features = label (0,1,..., 9), use bias \n",
    "        self.linear = nn.Linear(3072, 10, bias=True)\n",
    "\n",
    "    def forward(self, x):\n",
    "        x = x.view(4, -1) # flatten the image 4 x 32 x 32 x 3 --> 4 x 3072 x 1 \n",
    "        return self.linear(x)\n",
    "\n",
    "\n",
    "net = Net()"
   ]
  },
  {
   "cell_type": "code",
   "execution_count": null,
   "metadata": {},
   "outputs": [],
   "source": []
  },
  {
   "cell_type": "markdown",
   "metadata": {},
   "source": [
    "# Choose Hyperparameters"
   ]
  },
  {
   "cell_type": "code",
   "execution_count": 15,
   "metadata": {},
   "outputs": [],
   "source": [
    "num_epochs = 12 # number of epochs to train for\n",
    "momentum = 0.6 # momentum for Stochastic Gradient Descent\n",
    "lr = 0.001 # learning rate (eta) for gradient descent"
   ]
  },
  {
   "cell_type": "markdown",
   "metadata": {},
   "source": [
    "# 3. Define a Loss function and optimizer\n",
    "\n",
    "Let's use a Classification Cross-Entropy loss and SGD with momentum.\n",
    "\n"
   ]
  },
  {
   "cell_type": "code",
   "execution_count": 16,
   "metadata": {},
   "outputs": [],
   "source": [
    "import torch.optim as optim\n",
    "\n",
    "criterion = nn.CrossEntropyLoss()\n",
    "optimizer = optim.SGD(net.parameters(), lr=lr, momentum=momentum)"
   ]
  },
  {
   "cell_type": "markdown",
   "metadata": {},
   "source": [
    "# 4. Train the network\n",
    "\n",
    "\n",
    "This is when things start to get interesting.\n",
    "We simply have to loop over our data iterator, and feed the inputs to the\n",
    "network and optimize.\n",
    "\n"
   ]
  },
  {
   "cell_type": "code",
   "execution_count": 17,
   "metadata": {},
   "outputs": [],
   "source": [
    "def calc_accuracy(dataloader):\n",
    "    correct = 0\n",
    "    total = 0\n",
    "    with torch.no_grad():\n",
    "        for data in dataloader:\n",
    "            images, labels = data\n",
    "            outputs = net(images)\n",
    "            _, predicted = torch.max(outputs.data, 1)\n",
    "            total += labels.size(0)\n",
    "            correct += (predicted == labels).sum().item()\n",
    "            \n",
    "    return 100.0 * correct / total"
   ]
  },
  {
   "cell_type": "code",
   "execution_count": 18,
   "metadata": {},
   "outputs": [
    {
     "name": "stdout",
     "output_type": "stream",
     "text": [
      "[1,  2000] loss: 1.931\n",
      "[1,  4000] loss: 1.846\n",
      "[1,  6000] loss: 1.835\n",
      "[1,  8000] loss: 1.825\n",
      "[1, 10000] loss: 1.819\n",
      "[1, 12000] loss: 1.786\n",
      "END OF EPOCH  1 : train accuracy =  40.516  // test accuracy =  39.1\n",
      "[2,  2000] loss: 1.767\n",
      "[2,  4000] loss: 1.737\n",
      "[2,  6000] loss: 1.766\n",
      "[2,  8000] loss: 1.774\n",
      "[2, 10000] loss: 1.770\n",
      "[2, 12000] loss: 1.774\n",
      "END OF EPOCH  2 : train accuracy =  40.206  // test accuracy =  37.38\n",
      "[3,  2000] loss: 1.730\n",
      "[3,  4000] loss: 1.750\n",
      "[3,  6000] loss: 1.754\n",
      "[3,  8000] loss: 1.743\n",
      "[3, 10000] loss: 1.762\n",
      "[3, 12000] loss: 1.737\n",
      "END OF EPOCH  3 : train accuracy =  39.944  // test accuracy =  36.98\n",
      "[4,  2000] loss: 1.721\n",
      "[4,  4000] loss: 1.717\n",
      "[4,  6000] loss: 1.731\n",
      "[4,  8000] loss: 1.730\n",
      "[4, 10000] loss: 1.749\n",
      "[4, 12000] loss: 1.750\n",
      "END OF EPOCH  4 : train accuracy =  42.024  // test accuracy =  38.65\n",
      "[5,  2000] loss: 1.719\n",
      "[5,  4000] loss: 1.722\n",
      "[5,  6000] loss: 1.750\n",
      "[5,  8000] loss: 1.710\n",
      "[5, 10000] loss: 1.727\n",
      "[5, 12000] loss: 1.729\n",
      "END OF EPOCH  5 : train accuracy =  42.466  // test accuracy =  38.75\n",
      "[6,  2000] loss: 1.700\n",
      "[6,  4000] loss: 1.735\n",
      "[6,  6000] loss: 1.714\n",
      "[6,  8000] loss: 1.728\n",
      "[6, 10000] loss: 1.705\n",
      "[6, 12000] loss: 1.743\n",
      "END OF EPOCH  6 : train accuracy =  42.58  // test accuracy =  39.1\n",
      "[7,  2000] loss: 1.705\n",
      "[7,  4000] loss: 1.726\n",
      "[7,  6000] loss: 1.691\n",
      "[7,  8000] loss: 1.732\n",
      "[7, 10000] loss: 1.706\n",
      "[7, 12000] loss: 1.713\n",
      "END OF EPOCH  7 : train accuracy =  41.048  // test accuracy =  37.09\n",
      "[8,  2000] loss: 1.691\n",
      "[8,  4000] loss: 1.717\n",
      "[8,  6000] loss: 1.715\n",
      "[8,  8000] loss: 1.700\n",
      "[8, 10000] loss: 1.699\n",
      "[8, 12000] loss: 1.722\n",
      "END OF EPOCH  8 : train accuracy =  41.814  // test accuracy =  38.49\n",
      "[9,  2000] loss: 1.682\n",
      "[9,  4000] loss: 1.674\n",
      "[9,  6000] loss: 1.709\n",
      "[9,  8000] loss: 1.731\n",
      "[9, 10000] loss: 1.702\n",
      "[9, 12000] loss: 1.723\n",
      "END OF EPOCH  9 : train accuracy =  42.956  // test accuracy =  38.56\n",
      "[10,  2000] loss: 1.672\n",
      "[10,  4000] loss: 1.693\n",
      "[10,  6000] loss: 1.694\n",
      "[10,  8000] loss: 1.718\n",
      "[10, 10000] loss: 1.700\n",
      "[10, 12000] loss: 1.725\n",
      "END OF EPOCH  10 : train accuracy =  42.898  // test accuracy =  37.64\n",
      "[11,  2000] loss: 1.667\n",
      "[11,  4000] loss: 1.694\n",
      "[11,  6000] loss: 1.684\n",
      "[11,  8000] loss: 1.696\n",
      "[11, 10000] loss: 1.717\n",
      "[11, 12000] loss: 1.725\n",
      "END OF EPOCH  11 : train accuracy =  43.466  // test accuracy =  38.69\n",
      "[12,  2000] loss: 1.675\n",
      "[12,  4000] loss: 1.673\n",
      "[12,  6000] loss: 1.703\n",
      "[12,  8000] loss: 1.720\n",
      "[12, 10000] loss: 1.717\n",
      "[12, 12000] loss: 1.677\n",
      "END OF EPOCH  12 : train accuracy =  43.666  // test accuracy =  38.69\n",
      "Finished Training\n"
     ]
    }
   ],
   "source": [
    "all_train_accuracies = [calc_accuracy(trainloader)]\n",
    "all_test_accuracies = [calc_accuracy(testloader)]\n",
    "for epoch in range(num_epochs):  # loop over the dataset multiple times\n",
    "\n",
    "    running_loss = 0.0\n",
    "    for i, data in enumerate(trainloader, 0):\n",
    "        # get the inputs; data is a list of [inputs, labels]\n",
    "        inputs, labels = data\n",
    "\n",
    "        # zero the parameter gradients\n",
    "        optimizer.zero_grad()\n",
    "\n",
    "        # forward + backward + optimize\n",
    "        outputs = net(inputs)\n",
    "        loss = criterion(outputs, labels)\n",
    "        loss.backward()\n",
    "        optimizer.step()\n",
    "\n",
    "        # print statistics\n",
    "        running_loss += loss.item()\n",
    "        if i % 2000 == 1999:    # print every 2000 mini-batches\n",
    "            print('[%d, %5d] loss: %.3f' %\n",
    "                  (epoch + 1, i + 1, running_loss / 2000))\n",
    "            running_loss = 0.0\n",
    "    \n",
    "            # Calculate accuracy every 2000 minibatches\n",
    "            train_accuracy = calc_accuracy(trainloader)\n",
    "            test_accuracy = calc_accuracy(testloader)\n",
    "            all_train_accuracies.append(train_accuracy)\n",
    "            all_test_accuracies.append(test_accuracy)\n",
    "            \n",
    "    print('END OF EPOCH ', epoch + 1, ': train accuracy = ', train_accuracy, ' // test accuracy = ', test_accuracy)\n",
    "    \n",
    "    \n",
    "\n",
    "print('Finished Training')"
   ]
  },
  {
   "cell_type": "markdown",
   "metadata": {},
   "source": [
    "# Plot accuracy over time\n",
    "\n",
    "\n",
    "\n",
    "\n"
   ]
  },
  {
   "cell_type": "code",
   "execution_count": 19,
   "metadata": {},
   "outputs": [
    {
     "data": {
      "image/png": "[encoded data removed]",
      "text/plain": [
       "<Figure size 432x288 with 1 Axes>"
      ]
     },
     "metadata": {
      "needs_background": "light"
     },
     "output_type": "display_data"
    }
   ],
   "source": [
    "import matplotlib.pyplot as plt\n",
    "\n",
    "plt.figure(1)\n",
    "plt.plot(all_train_accuracies)\n",
    "plt.plot(all_test_accuracies)\n",
    "plt.title('Training and Testing Accuracy after each iteration')\n",
    "plt.xlabel('Iteration Number')\n",
    "plt.ylabel('Accuracy (%)')\n",
    "plt.legend(['Training', 'Testing'])\n",
    "plt.show()"
   ]
  },
  {
   "cell_type": "code",
   "execution_count": null,
   "metadata": {},
   "outputs": [],
   "source": []
  }
 ],
 "metadata": {
  "kernelspec": {
   "display_name": "Python 3",
   "language": "python",
   "name": "python3"
  },
  "language_info": {
   "codemirror_mode": {
    "name": "ipython",
    "version": 3
   },
   "file_extension": ".py",
   "mimetype": "text/x-python",
   "name": "python",
   "nbconvert_exporter": "python",
   "pygments_lexer": "ipython3",
   "version": "3.6.7"
  }
 },
 "nbformat": 4,
 "nbformat_minor": 1
}
