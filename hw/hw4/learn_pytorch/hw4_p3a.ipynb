{
 "cells": [
  {
   "cell_type": "code",
   "execution_count": 22,
   "metadata": {},
   "outputs": [],
   "source": [
    "%matplotlib inline"
   ]
  },
  {
   "cell_type": "code",
   "execution_count": 23,
   "metadata": {},
   "outputs": [],
   "source": [
    "import torch\n",
    "import torchvision\n",
    "import torchvision.transforms as transforms"
   ]
  },
  {
   "cell_type": "code",
   "execution_count": 24,
   "metadata": {},
   "outputs": [
    {
     "name": "stdout",
     "output_type": "stream",
     "text": [
      "Files already downloaded and verified\n",
      "Files already downloaded and verified\n"
     ]
    }
   ],
   "source": [
    "# LOADS CIFAR10 images which are 32 x 32 x 3 RGB images\n",
    "# iter(trainloader/testloader) are iterables that come in pairs (image, label)\n",
    "\n",
    "transform = transforms.Compose(\n",
    "    [transforms.ToTensor(),\n",
    "     transforms.Normalize((0.5, 0.5, 0.5), (0.5, 0.5, 0.5))])\n",
    "\n",
    "trainset = torchvision.datasets.CIFAR10(root='./data', train=True,\n",
    "                                        download=True, transform=transform)\n",
    "trainloader = torch.utils.data.DataLoader(trainset, batch_size=4,\n",
    "                                          shuffle=True, num_workers=2)\n",
    "\n",
    "\n",
    "testset = torchvision.datasets.CIFAR10(root='./data', train=False,\n",
    "                                       download=True, transform=transform)\n",
    "testloader = torch.utils.data.DataLoader(testset, batch_size=4,\n",
    "                                         shuffle=False, num_workers=2)\n",
    "\n",
    "classes = ('plane', 'car', 'bird', 'cat',\n",
    "           'deer', 'dog', 'frog', 'horse', 'ship', 'truck')"
   ]
  },
  {
   "cell_type": "markdown",
   "metadata": {},
   "source": [
    "Let us show some of the training images, for fun.\n",
    "\n"
   ]
  },
  {
   "cell_type": "code",
   "execution_count": 25,
   "metadata": {},
   "outputs": [],
   "source": [
    "import torch.nn as nn\n",
    "import torch.nn.functional as F\n",
    "\n",
    "\n",
    "class Net(nn.Module):\n",
    "    def __init__(self):\n",
    "        super(Net, self).__init__()\n",
    "        \n",
    "        # in features --> flattened 32 x 32 x 3 image, out features = label (0,1,..., 9), use bias \n",
    "        self.linear = nn.Linear(3072, 10, bias=True)\n",
    "\n",
    "    def forward(self, x):\n",
    "\n",
    "        return self.linear(x)\n",
    "\n",
    "\n",
    "net = Net()"
   ]
  },
  {
   "cell_type": "code",
   "execution_count": null,
   "metadata": {},
   "outputs": [],
   "source": []
  },
  {
   "cell_type": "markdown",
   "metadata": {},
   "source": [
    "# Choose Hyperparameters"
   ]
  },
  {
   "cell_type": "code",
   "execution_count": 26,
   "metadata": {},
   "outputs": [],
   "source": [
    "num_epochs = 12 # number of epochs to train for\n",
    "momentum = 0.9 # momentum for Stochastic Gradient Descent\n",
    "lr = 0.001 # learning rate (eta) for gradient descent"
   ]
  },
  {
   "cell_type": "markdown",
   "metadata": {},
   "source": [
    "# 3. Define a Loss function and optimizer\n",
    "\n",
    "Let's use a Classification Cross-Entropy loss and SGD with momentum.\n",
    "\n"
   ]
  },
  {
   "cell_type": "code",
   "execution_count": 27,
   "metadata": {},
   "outputs": [],
   "source": [
    "import torch.optim as optim\n",
    "\n",
    "criterion = nn.CrossEntropyLoss()\n",
    "optimizer = optim.SGD(net.parameters(), lr=lr, momentum=momentum)"
   ]
  },
  {
   "cell_type": "markdown",
   "metadata": {},
   "source": [
    "# 4. Train the network\n",
    "\n",
    "\n",
    "This is when things start to get interesting.\n",
    "We simply have to loop over our data iterator, and feed the inputs to the\n",
    "network and optimize.\n",
    "\n"
   ]
  },
  {
   "cell_type": "code",
   "execution_count": 28,
   "metadata": {},
   "outputs": [],
   "source": [
    "def calc_accuracy(dataloader):\n",
    "    correct = 0\n",
    "    total = 0\n",
    "    with torch.no_grad():\n",
    "        for data in dataloader:\n",
    "            images, labels = data\n",
    "            images = images.view(4, -1)\n",
    "            outputs = net(images)\n",
    "            _, predicted = torch.max(outputs.data, 1)\n",
    "            total += labels.size(0)\n",
    "            correct += (predicted == labels).sum().item()\n",
    "            \n",
    "    return 100.0 * correct / total"
   ]
  },
  {
   "cell_type": "code",
   "execution_count": 29,
   "metadata": {},
   "outputs": [
    {
     "name": "stdout",
     "output_type": "stream",
     "text": [
      "[1,  2000] loss: 2.187\n",
      "[1,  4000] loss: 2.171\n",
      "[1,  6000] loss: 2.149\n",
      "[1,  8000] loss: 2.136\n",
      "[1, 10000] loss: 2.147\n",
      "[1, 12000] loss: 2.140\n",
      "END OF EPOCH  1 : train accuracy =  35.616\n",
      "[2,  2000] loss: 2.057\n",
      "[2,  4000] loss: 2.090\n",
      "[2,  6000] loss: 2.108\n",
      "[2,  8000] loss: 2.092\n",
      "[2, 10000] loss: 2.129\n",
      "[2, 12000] loss: 2.115\n",
      "END OF EPOCH  2 : train accuracy =  35.334\n",
      "[3,  2000] loss: 2.020\n",
      "[3,  4000] loss: 2.069\n",
      "[3,  6000] loss: 2.106\n",
      "[3,  8000] loss: 2.084\n",
      "[3, 10000] loss: 2.121\n",
      "[3, 12000] loss: 2.133\n",
      "END OF EPOCH  3 : train accuracy =  38.334\n",
      "[4,  2000] loss: 2.001\n",
      "[4,  4000] loss: 2.048\n",
      "[4,  6000] loss: 2.050\n",
      "[4,  8000] loss: 2.108\n",
      "[4, 10000] loss: 2.093\n",
      "[4, 12000] loss: 2.080\n",
      "END OF EPOCH  4 : train accuracy =  35.264\n",
      "[5,  2000] loss: 1.998\n",
      "[5,  4000] loss: 2.026\n",
      "[5,  6000] loss: 2.072\n",
      "[5,  8000] loss: 2.092\n",
      "[5, 10000] loss: 2.080\n",
      "[5, 12000] loss: 2.066\n",
      "END OF EPOCH  5 : train accuracy =  37.352\n",
      "[6,  2000] loss: 1.994\n",
      "[6,  4000] loss: 2.077\n",
      "[6,  6000] loss: 2.057\n",
      "[6,  8000] loss: 2.085\n",
      "[6, 10000] loss: 2.054\n",
      "[6, 12000] loss: 2.064\n",
      "END OF EPOCH  6 : train accuracy =  36.594\n",
      "[7,  2000] loss: 1.994\n",
      "[7,  4000] loss: 2.007\n",
      "[7,  6000] loss: 2.068\n",
      "[7,  8000] loss: 2.036\n",
      "[7, 10000] loss: 2.079\n",
      "[7, 12000] loss: 2.059\n",
      "END OF EPOCH  7 : train accuracy =  38.552\n",
      "[8,  2000] loss: 2.003\n",
      "[8,  4000] loss: 2.028\n",
      "[8,  6000] loss: 2.026\n",
      "[8,  8000] loss: 2.028\n",
      "[8, 10000] loss: 2.054\n",
      "[8, 12000] loss: 2.097\n",
      "END OF EPOCH  8 : train accuracy =  38.108\n",
      "[9,  2000] loss: 1.970\n",
      "[9,  4000] loss: 2.014\n",
      "[9,  6000] loss: 2.023\n",
      "[9,  8000] loss: 2.069\n",
      "[9, 10000] loss: 2.056\n",
      "[9, 12000] loss: 2.054\n",
      "END OF EPOCH  9 : train accuracy =  38.102\n",
      "[10,  2000] loss: 1.983\n",
      "[10,  4000] loss: 2.022\n",
      "[10,  6000] loss: 2.051\n",
      "[10,  8000] loss: 2.055\n",
      "[10, 10000] loss: 2.068\n",
      "[10, 12000] loss: 2.057\n",
      "END OF EPOCH  10 : train accuracy =  41.15\n",
      "[11,  2000] loss: 1.969\n",
      "[11,  4000] loss: 2.021\n",
      "[11,  6000] loss: 2.027\n",
      "[11,  8000] loss: 2.018\n",
      "[11, 10000] loss: 2.040\n",
      "[11, 12000] loss: 2.062\n",
      "END OF EPOCH  11 : train accuracy =  40.298\n",
      "[12,  2000] loss: 1.971\n",
      "[12,  4000] loss: 2.029\n",
      "[12,  6000] loss: 2.001\n",
      "[12,  8000] loss: 2.019\n",
      "[12, 10000] loss: 2.037\n",
      "[12, 12000] loss: 2.046\n",
      "END OF EPOCH  12 : train accuracy =  39.52\n",
      "[13,  2000] loss: 1.993\n",
      "[13,  4000] loss: 1.995\n",
      "[13,  6000] loss: 2.015\n",
      "[13,  8000] loss: 2.045\n",
      "[13, 10000] loss: 2.041\n",
      "[13, 12000] loss: 2.030\n",
      "END OF EPOCH  13 : train accuracy =  38.446\n",
      "[14,  2000] loss: 1.986\n",
      "[14,  4000] loss: 1.994\n",
      "[14,  6000] loss: 2.009\n",
      "[14,  8000] loss: 2.039\n",
      "[14, 10000] loss: 2.022\n",
      "[14, 12000] loss: 2.023\n",
      "END OF EPOCH  14 : train accuracy =  36.738\n",
      "[15,  2000] loss: 1.963\n",
      "[15,  4000] loss: 1.982\n",
      "[15,  6000] loss: 2.042\n",
      "[15,  8000] loss: 2.002\n",
      "[15, 10000] loss: 2.054\n",
      "[15, 12000] loss: 2.052\n",
      "END OF EPOCH  15 : train accuracy =  38.436\n",
      "[16,  2000] loss: 1.958\n",
      "[16,  4000] loss: 2.011\n",
      "[16,  6000] loss: 1.995\n",
      "[16,  8000] loss: 2.015\n",
      "[16, 10000] loss: 2.026\n",
      "[16, 12000] loss: 2.039\n",
      "END OF EPOCH  16 : train accuracy =  38.086\n",
      "[17,  2000] loss: 1.967\n",
      "[17,  4000] loss: 1.996\n",
      "[17,  6000] loss: 1.980\n",
      "[17,  8000] loss: 1.978\n",
      "[17, 10000] loss: 2.014\n",
      "[17, 12000] loss: 2.033\n",
      "END OF EPOCH  17 : train accuracy =  40.238\n",
      "[18,  2000] loss: 1.972\n",
      "[18,  4000] loss: 2.018\n",
      "[18,  6000] loss: 1.971\n",
      "[18,  8000] loss: 2.046\n",
      "[18, 10000] loss: 2.012\n",
      "[18, 12000] loss: 2.040\n",
      "END OF EPOCH  18 : train accuracy =  36.086\n",
      "[19,  2000] loss: 1.971\n",
      "[19,  4000] loss: 1.969\n",
      "[19,  6000] loss: 2.043\n",
      "[19,  8000] loss: 2.011\n",
      "[19, 10000] loss: 1.995\n",
      "[19, 12000] loss: 2.028\n",
      "END OF EPOCH  19 : train accuracy =  36.918\n",
      "[20,  2000] loss: 1.942\n",
      "[20,  4000] loss: 2.002\n",
      "[20,  6000] loss: 2.017\n",
      "[20,  8000] loss: 2.002\n",
      "[20, 10000] loss: 2.025\n",
      "[20, 12000] loss: 1.998\n",
      "END OF EPOCH  20 : train accuracy =  39.45\n",
      "Finished Training\n"
     ]
    }
   ],
   "source": [
    "all_train_accuracies = []\n",
    "all_test_accuracies = []\n",
    "for epoch in range(num_epochs):  # loop over the dataset multiple times\n",
    "\n",
    "    running_loss = 0.0\n",
    "    for i, data in enumerate(trainloader, 0):\n",
    "        # get the inputs; data is a list of [inputs, labels]\n",
    "        inputs, labels = data\n",
    "        inputs = inputs.view(4, -1)\n",
    "\n",
    "        # zero the parameter gradients\n",
    "        optimizer.zero_grad()\n",
    "\n",
    "        # forward + backward + optimize\n",
    "        outputs = net(inputs)\n",
    "        loss = criterion(outputs, labels)\n",
    "        loss.backward()\n",
    "        optimizer.step()\n",
    "\n",
    "        # print statistics\n",
    "        running_loss += loss.item()\n",
    "        if i % 2000 == 1999:    # print every 2000 mini-batches\n",
    "            print('[%d, %5d] loss: %.3f' %\n",
    "                  (epoch + 1, i + 1, running_loss / 2000))\n",
    "            running_loss = 0.0\n",
    "    \n",
    "    train_accuracy = calc_accuracy(trainloader)\n",
    "    test_accuracy = calc_accuracy(testloader)\n",
    "    print('END OF EPOCH ', epoch + 1, ': train accuracy = ', train_accuracy )\n",
    "    \n",
    "    all_train_accuracies.append(train_accuracy)\n",
    "    all_test_accuracies.append(test_accuracy)\n",
    "\n",
    "print('Finished Training')"
   ]
  },
  {
   "cell_type": "markdown",
   "metadata": {},
   "source": [
    "# Plot accuracy over time\n",
    "\n",
    "\n",
    "\n",
    "\n"
   ]
  },
  {
   "cell_type": "code",
   "execution_count": 30,
   "metadata": {},
   "outputs": [
    {
     "data": {
      "image/png": "[encoded data removed]",
      "text/plain": [
       "<Figure size 432x288 with 1 Axes>"
      ]
     },
     "metadata": {
      "needs_background": "light"
     },
     "output_type": "display_data"
    }
   ],
   "source": [
    "import matplotlib.pyplot as plt\n",
    "\n",
    "plt.figure(1)\n",
    "plt.plot(all_train_accuracies)\n",
    "plt.plot(all_test_accuracies)\n",
    "plt.title('Training and Testing Accuracy after each iteration')\n",
    "plt.xlabel('Iteration Number')\n",
    "plt.ylabel('Accuracy (%)')\n",
    "plt.legend(['Training', 'Testing'])\n",
    "plt.show()"
   ]
  }
 ],
 "metadata": {
  "kernelspec": {
   "display_name": "Python 3",
   "language": "python",
   "name": "python3"
  },
  "language_info": {
   "codemirror_mode": {
    "name": "ipython",
    "version": 3
   },
   "file_extension": ".py",
   "mimetype": "text/x-python",
   "name": "python",
   "nbconvert_exporter": "python",
   "pygments_lexer": "ipython3",
   "version": "3.6.7"
  }
 },
 "nbformat": 4,
 "nbformat_minor": 1
}
