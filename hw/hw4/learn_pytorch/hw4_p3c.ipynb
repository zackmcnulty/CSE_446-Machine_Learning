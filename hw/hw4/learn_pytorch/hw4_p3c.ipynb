{
 "cells": [
  {
   "cell_type": "code",
   "execution_count": 10,
   "metadata": {},
   "outputs": [],
   "source": [
    "%matplotlib inline"
   ]
  },
  {
   "cell_type": "code",
   "execution_count": 11,
   "metadata": {},
   "outputs": [],
   "source": [
    "import torch\n",
    "import torchvision\n",
    "import torchvision.transforms as transforms"
   ]
  },
  {
   "cell_type": "code",
   "execution_count": 12,
   "metadata": {},
   "outputs": [
    {
     "name": "stdout",
     "output_type": "stream",
     "text": [
      "Files already downloaded and verified\n",
      "Files already downloaded and verified\n"
     ]
    }
   ],
   "source": [
    "# LOADS CIFAR10 images which are 32 x 32 x 3 RGB images\n",
    "# iter(trainloader/testloader) are iterables that come in pairs (image, label)\n",
    "\n",
    "transform = transforms.Compose(\n",
    "    [transforms.ToTensor(),\n",
    "     transforms.Normalize((0.5, 0.5, 0.5), (0.5, 0.5, 0.5))])\n",
    "\n",
    "trainset = torchvision.datasets.CIFAR10(root='./data', train=True,\n",
    "                                        download=True, transform=transform)\n",
    "trainloader = torch.utils.data.DataLoader(trainset, batch_size=4,\n",
    "                                          shuffle=True, num_workers=2)\n",
    "\n",
    "\n",
    "testset = torchvision.datasets.CIFAR10(root='./data', train=False,\n",
    "                                       download=True, transform=transform)\n",
    "testloader = torch.utils.data.DataLoader(testset, batch_size=4,\n",
    "                                         shuffle=False, num_workers=2)\n",
    "\n",
    "classes = ('plane', 'car', 'bird', 'cat',\n",
    "           'deer', 'dog', 'frog', 'horse', 'ship', 'truck')"
   ]
  },
  {
   "cell_type": "markdown",
   "metadata": {},
   "source": [
    "# Choose Hyperparameters"
   ]
  },
  {
   "cell_type": "code",
   "execution_count": 13,
   "metadata": {},
   "outputs": [],
   "source": [
    "num_epochs = 12 # number of epochs to train for\n",
    "momentum = 0.9 # momentum for Stochastic Gradient Descent\n",
    "lr = 0.001 # learning rate (eta) for gradient descent\n",
    "M = 100  # number of neurons in hidden layer of neural network\n",
    "p = 4  # filter window size \n",
    "N = 8"
   ]
  },
  {
   "cell_type": "markdown",
   "metadata": {},
   "source": [
    "# Build Neural Network"
   ]
  },
  {
   "cell_type": "code",
   "execution_count": 14,
   "metadata": {},
   "outputs": [],
   "source": [
    "import torch.nn as nn\n",
    "import torch.nn.functional as F\n",
    "\n",
    "# NO PADDING\n",
    "class Net(nn.Module):\n",
    "    def __init__(self, M, N, p):\n",
    "        super(Net, self).__init__()\n",
    "        \n",
    "        # The 3 input channels are the RGB of the image\n",
    "        # the Kernel size is the size of the filter window (p x p in this case)\n",
    "        self.conv = nn.Conv2d(in_channels=3, out_channels=M, kernel_size=p, bias=True, padding=0)\n",
    "        \n",
    "        # Max pooling layer. kernel_size is the size of the window that is used. Max is selected within a N x N window\n",
    "        self.pool = nn.MaxPool2d(kernel_size=N)\n",
    "        \n",
    "        self.linear = nn.Linear(((33-p) // N)**2 * M,  10, bias=True)\n",
    "\n",
    "    def forward(self, x):\n",
    "        x = self.conv(x)\n",
    "        x = F.relu(x)\n",
    "        x = self.pool(x)\n",
    "        \n",
    "        # vectorize the data before feeding it into the linear layer. Note the 4 is due to the batch of size 4 used\n",
    "        # (see homework specification)\n",
    "        x = x.view(4, -1)\n",
    "        x = self.linear(x)\n",
    "        return x\n",
    "        \n",
    "\n",
    "\n",
    "net = Net(M, N, p)"
   ]
  },
  {
   "cell_type": "code",
   "execution_count": null,
   "metadata": {},
   "outputs": [],
   "source": []
  },
  {
   "cell_type": "markdown",
   "metadata": {},
   "source": [
    "# 3. Define a Loss function and optimizer\n",
    "\n",
    "Let's use a Classification Cross-Entropy loss and SGD with momentum.\n",
    "\n"
   ]
  },
  {
   "cell_type": "code",
   "execution_count": 15,
   "metadata": {},
   "outputs": [],
   "source": [
    "import torch.optim as optim\n",
    "\n",
    "criterion = nn.CrossEntropyLoss()\n",
    "optimizer = optim.SGD(net.parameters(), lr=lr, momentum=momentum)"
   ]
  },
  {
   "cell_type": "markdown",
   "metadata": {},
   "source": [
    "# 4. Train the network\n",
    "\n",
    "\n",
    "This is when things start to get interesting.\n",
    "We simply have to loop over our data iterator, and feed the inputs to the\n",
    "network and optimize.\n",
    "\n"
   ]
  },
  {
   "cell_type": "code",
   "execution_count": 16,
   "metadata": {},
   "outputs": [],
   "source": [
    "def calc_accuracy(dataloader):\n",
    "    correct = 0\n",
    "    total = 0\n",
    "    with torch.no_grad():\n",
    "        for data in dataloader:\n",
    "            images, labels = data\n",
    "            outputs = net(images)\n",
    "            _, predicted = torch.max(outputs.data, 1)\n",
    "            total += labels.size(0)\n",
    "            correct += (predicted == labels).sum().item()\n",
    "            \n",
    "    return 100.0 * correct / total"
   ]
  },
  {
   "cell_type": "code",
   "execution_count": 17,
   "metadata": {},
   "outputs": [
    {
     "name": "stdout",
     "output_type": "stream",
     "text": [
      "[1,  2000] loss: 1.842\n",
      "[1,  4000] loss: 1.575\n",
      "[1,  6000] loss: 1.457\n",
      "[1,  8000] loss: 1.371\n",
      "[1, 10000] loss: 1.337\n",
      "[1, 12000] loss: 1.292\n",
      "END OF EPOCH  1 : train accuracy =  55.898  // test accuracy =  54.92\n",
      "[2,  2000] loss: 1.243\n",
      "[2,  4000] loss: 1.248\n",
      "[2,  6000] loss: 1.221\n",
      "[2,  8000] loss: 1.202\n",
      "[2, 10000] loss: 1.192\n",
      "[2, 12000] loss: 1.166\n",
      "END OF EPOCH  2 : train accuracy =  58.464  // test accuracy =  57.1\n",
      "[3,  2000] loss: 1.124\n",
      "[3,  4000] loss: 1.160\n",
      "[3,  6000] loss: 1.142\n",
      "[3,  8000] loss: 1.145\n",
      "[3, 10000] loss: 1.125\n",
      "[3, 12000] loss: 1.142\n",
      "END OF EPOCH  3 : train accuracy =  62.892  // test accuracy =  61.17\n",
      "[4,  2000] loss: 1.115\n",
      "[4,  4000] loss: 1.102\n",
      "[4,  6000] loss: 1.083\n",
      "[4,  8000] loss: 1.098\n",
      "[4, 10000] loss: 1.085\n",
      "[4, 12000] loss: 1.094\n",
      "END OF EPOCH  4 : train accuracy =  64.922  // test accuracy =  62.96\n",
      "[5,  2000] loss: 1.070\n",
      "[5,  4000] loss: 1.045\n",
      "[5,  6000] loss: 1.083\n",
      "[5,  8000] loss: 1.061\n",
      "[5, 10000] loss: 1.063\n",
      "[5, 12000] loss: 1.059\n",
      "END OF EPOCH  5 : train accuracy =  64.58  // test accuracy =  62.11\n",
      "[6,  2000] loss: 1.056\n",
      "[6,  4000] loss: 1.037\n",
      "[6,  6000] loss: 1.025\n",
      "[6,  8000] loss: 1.044\n",
      "[6, 10000] loss: 1.032\n",
      "[6, 12000] loss: 1.050\n",
      "END OF EPOCH  6 : train accuracy =  65.118  // test accuracy =  62.38\n",
      "[7,  2000] loss: 0.997\n",
      "[7,  4000] loss: 1.003\n",
      "[7,  6000] loss: 1.028\n",
      "[7,  8000] loss: 1.015\n",
      "[7, 10000] loss: 1.026\n",
      "[7, 12000] loss: 1.039\n",
      "END OF EPOCH  7 : train accuracy =  67.046  // test accuracy =  64.57\n",
      "[8,  2000] loss: 0.997\n",
      "[8,  4000] loss: 0.996\n",
      "[8,  6000] loss: 0.994\n",
      "[8,  8000] loss: 1.019\n",
      "[8, 10000] loss: 1.024\n",
      "[8, 12000] loss: 0.984\n",
      "END OF EPOCH  8 : train accuracy =  65.85  // test accuracy =  62.48\n",
      "[9,  2000] loss: 1.002\n",
      "[9,  4000] loss: 0.977\n",
      "[9,  6000] loss: 0.993\n",
      "[9,  8000] loss: 0.979\n",
      "[9, 10000] loss: 0.985\n",
      "[9, 12000] loss: 1.000\n",
      "END OF EPOCH  9 : train accuracy =  67.732  // test accuracy =  63.91\n",
      "[10,  2000] loss: 0.941\n",
      "[10,  4000] loss: 0.986\n",
      "[10,  6000] loss: 0.981\n",
      "[10,  8000] loss: 0.972\n",
      "[10, 10000] loss: 0.991\n",
      "[10, 12000] loss: 0.962\n",
      "END OF EPOCH  10 : train accuracy =  68.24  // test accuracy =  64.27\n",
      "[11,  2000] loss: 0.943\n",
      "[11,  4000] loss: 0.963\n",
      "[11,  6000] loss: 0.977\n",
      "[11,  8000] loss: 0.956\n",
      "[11, 10000] loss: 0.959\n",
      "[11, 12000] loss: 0.980\n",
      "END OF EPOCH  11 : train accuracy =  68.454  // test accuracy =  64.88\n",
      "[12,  2000] loss: 0.959\n",
      "[12,  4000] loss: 0.944\n",
      "[12,  6000] loss: 0.955\n",
      "[12,  8000] loss: 0.959\n",
      "[12, 10000] loss: 0.963\n",
      "[12, 12000] loss: 0.963\n",
      "END OF EPOCH  12 : train accuracy =  67.822  // test accuracy =  63.8\n",
      "Finished Training\n"
     ]
    }
   ],
   "source": [
    "all_train_accuracies = [calc_accuracy(trainloader)]\n",
    "all_test_accuracies = [calc_accuracy(testloader)]\n",
    "for epoch in range(num_epochs):  # loop over the dataset multiple times\n",
    "\n",
    "    running_loss = 0.0\n",
    "    for i, data in enumerate(trainloader, 0):\n",
    "        # get the inputs; data is a list of [inputs, labels]\n",
    "        inputs, labels = data\n",
    "\n",
    "        # zero the parameter gradients\n",
    "        optimizer.zero_grad()\n",
    "\n",
    "        # forward + backward + optimize\n",
    "        outputs = net(inputs)\n",
    "        loss = criterion(outputs, labels)\n",
    "        loss.backward()\n",
    "        optimizer.step()\n",
    "\n",
    "        # print statistics\n",
    "        running_loss += loss.item()\n",
    "        if i % 2000 == 1999:    # print every 2000 mini-batches\n",
    "            print('[%d, %5d] loss: %.3f' %\n",
    "                  (epoch + 1, i + 1, running_loss / 2000))\n",
    "            running_loss = 0.0\n",
    "    \n",
    "            #train_accuracy = calc_accuracy(trainloader)\n",
    "            #test_accuracy = calc_accuracy(testloader)\n",
    "            #all_train_accuracies.append(train_accuracy)\n",
    "            #all_test_accuracies.append(test_accuracy)\n",
    "    \n",
    "    train_accuracy = calc_accuracy(trainloader)\n",
    "    test_accuracy = calc_accuracy(testloader)\n",
    "    print('END OF EPOCH ', epoch + 1, ': train accuracy = ', train_accuracy, ' // test accuracy = ', test_accuracy)\n",
    "    \n",
    "        \n",
    "print('Finished Training')"
   ]
  },
  {
   "cell_type": "markdown",
   "metadata": {},
   "source": [
    "# Plot accuracy over time\n",
    "\n",
    "\n",
    "\n",
    "\n"
   ]
  },
  {
   "cell_type": "code",
   "execution_count": 18,
   "metadata": {},
   "outputs": [
    {
     "data": {
      "image/png": "[encoded data removed]",
      "text/plain": [
       "<Figure size 432x288 with 1 Axes>"
      ]
     },
     "metadata": {
      "needs_background": "light"
     },
     "output_type": "display_data"
    }
   ],
   "source": [
    "import matplotlib.pyplot as plt\n",
    "\n",
    "plt.figure(1)\n",
    "plt.plot(all_train_accuracies)\n",
    "plt.plot(all_test_accuracies)\n",
    "plt.title('Training and Testing Accuracy after each iteration')\n",
    "plt.xlabel('Iteration Number')\n",
    "plt.ylabel('Accuracy (%)')\n",
    "plt.legend(['Training', 'Testing'])\n",
    "plt.show()"
   ]
  }
 ],
 "metadata": {
  "kernelspec": {
   "display_name": "Python 3",
   "language": "python",
   "name": "python3"
  },
  "language_info": {
   "codemirror_mode": {
    "name": "ipython",
    "version": 3
   },
   "file_extension": ".py",
   "mimetype": "text/x-python",
   "name": "python",
   "nbconvert_exporter": "python",
   "pygments_lexer": "ipython3",
   "version": "3.6.7"
  }
 },
 "nbformat": 4,
 "nbformat_minor": 1
}
