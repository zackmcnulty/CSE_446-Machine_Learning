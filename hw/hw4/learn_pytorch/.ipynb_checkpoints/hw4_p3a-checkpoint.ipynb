{
 "cells": [
  {
   "cell_type": "code",
   "execution_count": 1,
   "metadata": {},
   "outputs": [],
   "source": [
    "%matplotlib inline"
   ]
  },
  {
   "cell_type": "code",
   "execution_count": 2,
   "metadata": {},
   "outputs": [],
   "source": [
    "import torch\n",
    "import torchvision\n",
    "import torchvision.transforms as transforms"
   ]
  },
  {
   "cell_type": "code",
   "execution_count": 3,
   "metadata": {},
   "outputs": [
    {
     "name": "stdout",
     "output_type": "stream",
     "text": [
      "Files already downloaded and verified\n",
      "Files already downloaded and verified\n"
     ]
    }
   ],
   "source": [
    "# LOADS CIFAR10 images which are 32 x 32 x 3 RGB images\n",
    "# iter(trainloader/testloader) are iterables that come in pairs (image, label)\n",
    "\n",
    "transform = transforms.Compose(\n",
    "    [transforms.ToTensor(),\n",
    "     transforms.Normalize((0.5, 0.5, 0.5), (0.5, 0.5, 0.5))])\n",
    "\n",
    "trainset = torchvision.datasets.CIFAR10(root='./data', train=True,\n",
    "                                        download=True, transform=transform)\n",
    "trainloader = torch.utils.data.DataLoader(trainset, batch_size=4,\n",
    "                                          shuffle=True, num_workers=2)\n",
    "\n",
    "\n",
    "testset = torchvision.datasets.CIFAR10(root='./data', train=False,\n",
    "                                       download=True, transform=transform)\n",
    "testloader = torch.utils.data.DataLoader(testset, batch_size=4,\n",
    "                                         shuffle=False, num_workers=2)\n",
    "\n",
    "classes = ('plane', 'car', 'bird', 'cat',\n",
    "           'deer', 'dog', 'frog', 'horse', 'ship', 'truck')"
   ]
  },
  {
   "cell_type": "code",
   "execution_count": 4,
   "metadata": {},
   "outputs": [],
   "source": [
    "import torch.nn as nn\n",
    "import torch.nn.functional as F\n",
    "\n",
    "\n",
    "class Net(nn.Module):\n",
    "    def __init__(self):\n",
    "        super(Net, self).__init__()\n",
    "        \n",
    "        # in features --> flattened 32 x 32 x 3 image, out features = label (0,1,..., 9), use bias \n",
    "        self.linear = nn.Linear(3072, 10, bias=True)\n",
    "\n",
    "    def forward(self, x):\n",
    "        x = x.view(4, -1) # flatten the image 4 x 32 x 32 x 3 --> 4 x 3072 x 1 \n",
    "        return self.linear(x)\n",
    "\n",
    "\n",
    "net = Net()"
   ]
  },
  {
   "cell_type": "code",
   "execution_count": null,
   "metadata": {},
   "outputs": [],
   "source": []
  },
  {
   "cell_type": "markdown",
   "metadata": {},
   "source": [
    "# Choose Hyperparameters"
   ]
  },
  {
   "cell_type": "code",
   "execution_count": 5,
   "metadata": {},
   "outputs": [],
   "source": [
    "num_epochs = 12 # number of epochs to train for\n",
    "momentum = 0.9 # momentum for Stochastic Gradient Descent\n",
    "lr = 0.001 # learning rate (eta) for gradient descent"
   ]
  },
  {
   "cell_type": "markdown",
   "metadata": {},
   "source": [
    "# 3. Define a Loss function and optimizer\n",
    "\n",
    "Let's use a Classification Cross-Entropy loss and SGD with momentum.\n",
    "\n"
   ]
  },
  {
   "cell_type": "code",
   "execution_count": 6,
   "metadata": {},
   "outputs": [],
   "source": [
    "import torch.optim as optim\n",
    "\n",
    "criterion = nn.CrossEntropyLoss()\n",
    "optimizer = optim.SGD(net.parameters(), lr=lr, momentum=momentum)"
   ]
  },
  {
   "cell_type": "markdown",
   "metadata": {},
   "source": [
    "# 4. Train the network\n",
    "\n",
    "\n",
    "This is when things start to get interesting.\n",
    "We simply have to loop over our data iterator, and feed the inputs to the\n",
    "network and optimize.\n",
    "\n"
   ]
  },
  {
   "cell_type": "code",
   "execution_count": 7,
   "metadata": {},
   "outputs": [],
   "source": [
    "def calc_accuracy(dataloader):\n",
    "    correct = 0\n",
    "    total = 0\n",
    "    with torch.no_grad():\n",
    "        for data in dataloader:\n",
    "            images, labels = data\n",
    "            outputs = net(images)\n",
    "            _, predicted = torch.max(outputs.data, 1)\n",
    "            total += labels.size(0)\n",
    "            correct += (predicted == labels).sum().item()\n",
    "            \n",
    "    return 100.0 * correct / total"
   ]
  },
  {
   "cell_type": "code",
   "execution_count": 8,
   "metadata": {},
   "outputs": [
    {
     "name": "stdout",
     "output_type": "stream",
     "text": [
      "[1,  2000] loss: 2.216\n",
      "[1,  4000] loss: 2.159\n",
      "[1,  6000] loss: 2.146\n",
      "[1,  8000] loss: 2.143\n",
      "[1, 10000] loss: 2.171\n",
      "[1, 12000] loss: 2.106\n",
      "END OF EPOCH  1 : train accuracy =  33.202\n",
      "[2,  2000] loss: 2.072\n",
      "[2,  4000] loss: 2.068\n",
      "[2,  6000] loss: 2.110\n",
      "[2,  8000] loss: 2.078\n",
      "[2, 10000] loss: 2.108\n",
      "[2, 12000] loss: 2.117\n",
      "END OF EPOCH  2 : train accuracy =  35.276\n",
      "[3,  2000] loss: 2.048\n",
      "[3,  4000] loss: 2.069\n",
      "[3,  6000] loss: 2.092\n",
      "[3,  8000] loss: 2.098\n",
      "[3, 10000] loss: 2.094\n",
      "[3, 12000] loss: 2.121\n",
      "END OF EPOCH  3 : train accuracy =  34.678\n",
      "[4,  2000] loss: 2.065\n",
      "[4,  4000] loss: 2.028\n",
      "[4,  6000] loss: 2.061\n",
      "[4,  8000] loss: 2.088\n",
      "[4, 10000] loss: 2.076\n",
      "[4, 12000] loss: 2.080\n",
      "END OF EPOCH  4 : train accuracy =  37.512\n",
      "[5,  2000] loss: 2.041\n",
      "[5,  4000] loss: 2.055\n",
      "[5,  6000] loss: 2.065\n",
      "[5,  8000] loss: 2.092\n",
      "[5, 10000] loss: 2.055\n",
      "[5, 12000] loss: 2.065\n",
      "END OF EPOCH  5 : train accuracy =  39.28\n",
      "[6,  2000] loss: 2.032\n",
      "[6,  4000] loss: 2.049\n",
      "[6,  6000] loss: 2.057\n",
      "[6,  8000] loss: 2.079\n",
      "[6, 10000] loss: 2.081\n",
      "[6, 12000] loss: 2.061\n",
      "END OF EPOCH  6 : train accuracy =  35.714\n",
      "[7,  2000] loss: 1.998\n",
      "[7,  4000] loss: 2.022\n",
      "[7,  6000] loss: 2.037\n",
      "[7,  8000] loss: 2.093\n",
      "[7, 10000] loss: 2.031\n",
      "[7, 12000] loss: 2.062\n",
      "END OF EPOCH  7 : train accuracy =  38.508\n",
      "[8,  2000] loss: 2.010\n",
      "[8,  4000] loss: 2.028\n",
      "[8,  6000] loss: 2.031\n",
      "[8,  8000] loss: 2.050\n",
      "[8, 10000] loss: 2.056\n",
      "[8, 12000] loss: 2.072\n",
      "END OF EPOCH  8 : train accuracy =  38.276\n",
      "[9,  2000] loss: 2.022\n",
      "[9,  4000] loss: 2.018\n",
      "[9,  6000] loss: 2.024\n",
      "[9,  8000] loss: 2.066\n",
      "[9, 10000] loss: 2.055\n",
      "[9, 12000] loss: 2.019\n",
      "END OF EPOCH  9 : train accuracy =  39.73\n",
      "[10,  2000] loss: 1.987\n",
      "[10,  4000] loss: 2.023\n",
      "[10,  6000] loss: 2.048\n",
      "[10,  8000] loss: 2.041\n",
      "[10, 10000] loss: 2.030\n",
      "[10, 12000] loss: 2.040\n",
      "END OF EPOCH  10 : train accuracy =  38.386\n",
      "[11,  2000] loss: 1.996\n",
      "[11,  4000] loss: 2.013\n",
      "[11,  6000] loss: 2.027\n",
      "[11,  8000] loss: 2.019\n",
      "[11, 10000] loss: 2.055\n",
      "[11, 12000] loss: 2.045\n",
      "END OF EPOCH  11 : train accuracy =  37.502\n",
      "[12,  2000] loss: 1.980\n",
      "[12,  4000] loss: 1.996\n",
      "[12,  6000] loss: 2.016\n",
      "[12,  8000] loss: 2.037\n",
      "[12, 10000] loss: 2.025\n",
      "[12, 12000] loss: 2.078\n",
      "END OF EPOCH  12 : train accuracy =  35.796\n",
      "Finished Training\n"
     ]
    }
   ],
   "source": [
    "all_train_accuracies = []\n",
    "all_test_accuracies = []\n",
    "for epoch in range(num_epochs):  # loop over the dataset multiple times\n",
    "\n",
    "    running_loss = 0.0\n",
    "    for i, data in enumerate(trainloader, 0):\n",
    "        # get the inputs; data is a list of [inputs, labels]\n",
    "        inputs, labels = data\n",
    "\n",
    "        # zero the parameter gradients\n",
    "        optimizer.zero_grad()\n",
    "\n",
    "        # forward + backward + optimize\n",
    "        outputs = net(inputs)\n",
    "        loss = criterion(outputs, labels)\n",
    "        loss.backward()\n",
    "        optimizer.step()\n",
    "\n",
    "        # print statistics\n",
    "        running_loss += loss.item()\n",
    "        if i % 2000 == 1999:    # print every 2000 mini-batches\n",
    "            print('[%d, %5d] loss: %.3f' %\n",
    "                  (epoch + 1, i + 1, running_loss / 2000))\n",
    "            running_loss = 0.0\n",
    "    \n",
    "    train_accuracy = calc_accuracy(trainloader)\n",
    "    test_accuracy = calc_accuracy(testloader)\n",
    "    print('END OF EPOCH ', epoch + 1, ': train accuracy = ', train_accuracy, ' // test accuracy = ', test_accuracy)\n",
    "    \n",
    "    all_train_accuracies.append(train_accuracy)\n",
    "    all_test_accuracies.append(test_accuracy)\n",
    "\n",
    "print('Finished Training')"
   ]
  },
  {
   "cell_type": "markdown",
   "metadata": {},
   "source": [
    "# Plot accuracy over time\n",
    "\n",
    "\n",
    "\n",
    "\n"
   ]
  },
  {
   "cell_type": "code",
   "execution_count": 9,
   "metadata": {},
   "outputs": [
    {
     "data": {
      "image/png": "[encoded data removed]",
      "text/plain": [
       "<Figure size 432x288 with 1 Axes>"
      ]
     },
     "metadata": {},
     "output_type": "display_data"
    }
   ],
   "source": [
    "import matplotlib.pyplot as plt\n",
    "\n",
    "plt.figure(1)\n",
    "plt.plot(all_train_accuracies)\n",
    "plt.plot(all_test_accuracies)\n",
    "plt.title('Training and Testing Accuracy after each iteration')\n",
    "plt.xlabel('Iteration Number')\n",
    "plt.ylabel('Accuracy (%)')\n",
    "plt.legend(['Training', 'Testing'])\n",
    "plt.show()"
   ]
  },
  {
   "cell_type": "code",
   "execution_count": 11,
   "metadata": {},
   "outputs": [
    {
     "name": "stdout",
     "output_type": "stream",
     "text": [
      "Net(\n",
      "  (linear): Linear(in_features=3072, out_features=10, bias=True)\n",
      ")\n"
     ]
    },
    {
     "ename": "NameError",
     "evalue": "name 'output' is not defined",
     "output_type": "error",
     "traceback": [
      "\u001b[0;31m---------------------------------------------------------------------------\u001b[0m",
      "\u001b[0;31mNameError\u001b[0m                                 Traceback (most recent call last)",
      "\u001b[0;32m<ipython-input-11-c65a5383b08c>\u001b[0m in \u001b[0;36m<module>\u001b[0;34m()\u001b[0m\n\u001b[1;32m      1\u001b[0m \u001b[0mprint\u001b[0m\u001b[0;34m(\u001b[0m\u001b[0mnet\u001b[0m\u001b[0;34m)\u001b[0m\u001b[0;34m\u001b[0m\u001b[0m\n\u001b[0;32m----> 2\u001b[0;31m \u001b[0mprint\u001b[0m\u001b[0;34m(\u001b[0m\u001b[0moutput\u001b[0m\u001b[0;34m)\u001b[0m\u001b[0;34m\u001b[0m\u001b[0m\n\u001b[0m",
      "\u001b[0;31mNameError\u001b[0m: name 'output' is not defined"
     ]
    }
   ],
   "source": [
    "print(net)\n",
    "print(output)"
   ]
  },
  {
   "cell_type": "code",
   "execution_count": null,
   "metadata": {},
   "outputs": [],
   "source": []
  }
 ],
 "metadata": {
  "kernelspec": {
   "display_name": "Python 3",
   "language": "python",
   "name": "python3"
  },
  "language_info": {
   "codemirror_mode": {
    "name": "ipython",
    "version": 3
   },
   "file_extension": ".py",
   "mimetype": "text/x-python",
   "name": "python",
   "nbconvert_exporter": "python",
   "pygments_lexer": "ipython3",
   "version": "3.6.5"
  }
 },
 "nbformat": 4,
 "nbformat_minor": 1
}
