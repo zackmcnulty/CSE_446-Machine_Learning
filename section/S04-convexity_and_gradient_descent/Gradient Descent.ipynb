{
 "cells": [
  {
   "cell_type": "markdown",
   "metadata": {},
   "source": [
    "# Gradient Descent\n",
    "Gradient Descent is a tool to minimize functions.\n",
    "For convex funcitons, it will find the global minimum"
   ]
  },
  {
   "cell_type": "code",
   "execution_count": null,
   "metadata": {},
   "outputs": [],
   "source": [
    "%matplotlib inline\n",
    "import matplotlib\n",
    "import numpy as np\n",
    "import matplotlib.pyplot as plt\n",
    "from time import sleep"
   ]
  },
  {
   "cell_type": "code",
   "execution_count": null,
   "metadata": {},
   "outputs": [],
   "source": [
    "def f(x):\n",
    "    return x**2 - 4*x + 6\n",
    "\n",
    "def f_prime(x):\n",
    "    return 2*x - 4"
   ]
  },
  {
   "cell_type": "code",
   "execution_count": null,
   "metadata": {},
   "outputs": [],
   "source": [
    "xs = np.linspace(-2, 6)\n",
    "ys = f(xs)"
   ]
  },
  {
   "cell_type": "code",
   "execution_count": null,
   "metadata": {
    "scrolled": false
   },
   "outputs": [],
   "source": [
    "plt.plot(xs, ys)\n",
    "plt.show()"
   ]
  },
  {
   "cell_type": "code",
   "execution_count": null,
   "metadata": {},
   "outputs": [],
   "source": [
    "%matplotlib notebook\n",
    "\n",
    "x_min = -2.5\n",
    "K = 20\n",
    "# step_size = 0.01 # too small\n",
    "# step_size = 2.0 # too large\n",
    "# step_size = 1.0 # bounces between two points\n",
    "# step_size = 0.1 # converges at a reasonable rate\n",
    "# step_size = 0.5 # goes to minumum in one step (has to do with inverse of second derivative)\n",
    "\n",
    "x_mins = []\n",
    "y_s = []\n",
    "fig,ax = plt.subplots(1,1, figsize=(11,8))\n",
    "plt.xlabel('$x$')\n",
    "plt.ylabel('$f(x)$')\n",
    "plt.title('Plot of gradient descent')\n",
    "for k in range(K):\n",
    "    x_min = x_min - step_size * f_prime(x_min)\n",
    "    \n",
    "    x_mins.append(x_min)\n",
    "    y_s.append(f(x_min))\n",
    "    plt.plot(x_mins, y_s, 'ro', xs, ys)\n",
    "    fig.canvas.draw()\n",
    "    sleep(0.5)\n",
    "fig.show()\n"
   ]
  },
  {
   "cell_type": "code",
   "execution_count": null,
   "metadata": {},
   "outputs": [],
   "source": [
    "print(x_min)"
   ]
  },
  {
   "cell_type": "code",
   "execution_count": null,
   "metadata": {},
   "outputs": [],
   "source": []
  },
  {
   "cell_type": "code",
   "execution_count": null,
   "metadata": {},
   "outputs": [],
   "source": []
  }
 ],
 "metadata": {
  "kernelspec": {
   "display_name": "Python 3",
   "language": "python",
   "name": "python3"
  },
  "language_info": {
   "codemirror_mode": {
    "name": "ipython",
    "version": 3
   },
   "file_extension": ".py",
   "mimetype": "text/x-python",
   "name": "python",
   "nbconvert_exporter": "python",
   "pygments_lexer": "ipython3",
   "version": "3.6.3"
  }
 },
 "nbformat": 4,
 "nbformat_minor": 2
}
